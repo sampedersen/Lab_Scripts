{
 "cells": [
  {
   "cell_type": "markdown",
   "id": "add22236-2911-4415-8711-160a38114f99",
   "metadata": {},
   "source": [
    "## Troubleshooting Space\n",
    "This file is intended to be used as Python environment for troubleshooting other scripts. "
   ]
  },
  {
   "cell_type": "markdown",
   "id": "6633987c-c1f2-42b6-901c-e44559a46963",
   "metadata": {},
   "source": [
    "### MRIcroGL Scripts"
   ]
  },
  {
   "cell_type": "markdown",
   "id": "354c5ca7-a975-4abb-83d6-fdb6fa9ed354",
   "metadata": {},
   "source": [
    "deface_jroast_mosaic.py \n",
    "Functions:\n",
    "* Import JRoast file \n",
    "* Overlay electrodes and gel \n",
    "* Set colors \n",
    "* Create mosaic and save as .png "
   ]
  },
  {
   "cell_type": "code",
   "execution_count": 2,
   "id": "5a9e84d5-e7fd-4a79-8725-b4c768c06be5",
   "metadata": {
    "tags": []
   },
   "outputs": [],
   "source": [
    "# Variables \n",
    "\n",
    "folder_path = \"P:\\\\WoodsLab\\\\ACT-head_models\\\\FEM\\\\Ayden\\\\deface\\\\new_montage\\\\low_group\\\\\"\n",
    "output_folder = \"P:\\\\WoodsLab\\\\ACT-head_models\\\\FEM\\\\Ayden\\\\deface\\\\new_montage\\\\sample_imgs\\\\low\\\\JRoast\\\\\"\n",
    "\n",
    "participants = ['101190']       # Must have at least one participant for testing "
   ]
  },
  {
   "cell_type": "code",
   "execution_count": 3,
   "id": "b08a771a-2fa6-4c13-afe2-5596f444136e",
   "metadata": {
    "tags": []
   },
   "outputs": [],
   "source": [
    "# Constants \n",
    "all_masks = \"_T1orT2_masks.nii\"\n",
    "elec = \"_mask_elec.nii\"\n",
    "gel = \"_mask_gel.nii\"\n",
    "algorithms = [\"original\",\"mri_deface\",\"mideface\",\"fsl_deface\",\"afni_reface\",\"afni_deface\"]\n",
    "t1s = [\"T1\",\"T1_defaced\",\"T1_defaced\",\"T1_defaced\",\"T1.reface\",\"T1.deface\"]\n",
    "jroast = \"_Jroast.nii\""
   ]
  },
  {
   "cell_type": "code",
   "execution_count": 4,
   "id": "2689cafe-65d5-46ca-ab5d-13c46d41dbdc",
   "metadata": {
    "tags": []
   },
   "outputs": [
    {
     "name": "stdout",
     "output_type": "stream",
     "text": [
      "User-established variables\n",
      "Input location: P:\\WoodsLab\\ACT-head_models\\FEM\\Ayden\\deface\\new_montage\\low_group\\\n",
      "Output location: P:\\WoodsLab\\ACT-head_models\\FEM\\Ayden\\deface\\new_montage\\sample_imgs\\low\\JRoast\\\n",
      "Participants: ['101190']\n",
      "File & directory structure\n"
     ]
    }
   ],
   "source": [
    "# Verify user-set variables \n",
    "print(\"User-established variables\")\n",
    "print(f\"Input location: {folder_path}\")\n",
    "print(f\"Output location: {output_folder}\")\n",
    "print(f\"Participants: {participants}\")\n",
    "\n",
    "print(\"File & directory structure\")"
   ]
  },
  {
   "cell_type": "code",
   "execution_count": 5,
   "id": "51b9196d-1a75-4210-bba4-fc465e8ce9e3",
   "metadata": {
    "tags": []
   },
   "outputs": [
    {
     "name": "stdout",
     "output_type": "stream",
     "text": [
      "101190\n"
     ]
    }
   ],
   "source": [
    "participant = participants[0]     # For testing\n",
    "print(participant)"
   ]
  },
  {
   "cell_type": "code",
   "execution_count": 6,
   "id": "c8df280e-d850-447a-8497-648d7f3199b9",
   "metadata": {
    "tags": []
   },
   "outputs": [],
   "source": [
    "# Change this 0-5 to test different algorithm names \n",
    "i = 0; "
   ]
  },
  {
   "cell_type": "code",
   "execution_count": 12,
   "id": "2a4c358a-2f29-4e7b-8024-b05531fef1bb",
   "metadata": {
    "tags": []
   },
   "outputs": [
    {
     "name": "stdout",
     "output_type": "stream",
     "text": [
      "participant_folder: P:\\WoodsLab\\ACT-head_models\\FEM\\Ayden\\deface\\new_montage\\low_group\\101190\\\n",
      "participant_output: P:\\WoodsLab\\ACT-head_models\\FEM\\Ayden\\deface\\new_montage\\sample_imgs\\low\\JRoast\\101190\\\n",
      "syntax: T1_DEFACE_mont2\n",
      "input_location: P:\\WoodsLab\\ACT-head_models\\FEM\\Ayden\\deface\\new_montage\\low_group\\101190\\original\\\n",
      "load: P:\\WoodsLab\\ACT-head_models\\FEM\\Ayden\\deface\\new_montage\\low_group\\101190\\original\\T1_DEFACE_mont2_Jroast.nii\n",
      "elec_mask: T1_DEFACE_mont2_mask_elec.nii\n",
      "gel_mask: T1_DEFACE_mont2_mask_gel.nii\n"
     ]
    }
   ],
   "source": [
    "participant_folder = folder_path+participant+\"\\\\\"\n",
    "participant_output = output_folder + participant + \"\\\\\"\n",
    "\n",
    "syntax = t1s[i] + \"_DEFACE_mont2\"\n",
    "input_location = participant_folder + algorithms[i] + \"\\\\\"\n",
    "load = input_location+syntax+jroast\n",
    "\n",
    "elec_mask = syntax+elec\n",
    "gel_mask = syntax+gel\n",
    "\n",
    "print(f\"participant_folder: {participant_folder}\")\n",
    "print(f\"participant_output: {participant_output}\")\n",
    "\n",
    "print(f\"syntax: {syntax}\")\n",
    "print(f\"input_location: {input_location}\")\n",
    "print(f\"load: {load}\")\n",
    "print(f\"elec_mask: {elec_mask}\")\n",
    "print(f\"gel_mask: {gel_mask}\")"
   ]
  },
  {
   "cell_type": "code",
   "execution_count": 8,
   "id": "438364b9-0576-48ff-b85b-e9dd0f9adf80",
   "metadata": {
    "tags": []
   },
   "outputs": [
    {
     "name": "stdout",
     "output_type": "stream",
     "text": [
      "Generating images for following participants: \n",
      "101190\n",
      "1 participants to process.\n"
     ]
    }
   ],
   "source": [
    "# Functions\n",
    "\n",
    "# Print participant numbers for verification\n",
    "print(\"Generating images for following participants: \")\n",
    "for participant in participants:\n",
    "    print(participant)\n",
    "print(str(len(participants)) + \" participants to process.\")"
   ]
  }
 ],
 "metadata": {
  "kernelspec": {
   "display_name": "Python 3 (ipykernel)",
   "language": "python",
   "name": "python3"
  },
  "language_info": {
   "codemirror_mode": {
    "name": "ipython",
    "version": 3
   },
   "file_extension": ".py",
   "mimetype": "text/x-python",
   "name": "python",
   "nbconvert_exporter": "python",
   "pygments_lexer": "ipython3",
   "version": "3.11.4"
  }
 },
 "nbformat": 4,
 "nbformat_minor": 5
}
