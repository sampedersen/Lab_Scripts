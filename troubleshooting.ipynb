{
 "cells": [
  {
   "cell_type": "markdown",
   "id": "add22236-2911-4415-8711-160a38114f99",
   "metadata": {},
   "source": [
    "## Troubleshooting Space\n",
    "This file is intended to be used as Python environment for troubleshooting other scripts. "
   ]
  },
  {
   "cell_type": "markdown",
   "id": "6633987c-c1f2-42b6-901c-e44559a46963",
   "metadata": {},
   "source": [
    "### MRIcroGL Scripts"
   ]
  },
  {
   "cell_type": "markdown",
   "id": "354c5ca7-a975-4abb-83d6-fdb6fa9ed354",
   "metadata": {},
   "source": [
    "deface_jroast_mosaic.py \n",
    "Functions:\n",
    "* Import JRoast file \n",
    "* Overlay electrodes and gel \n",
    "* Set colors \n",
    "* Create mosaic and save as .png "
   ]
  },
  {
   "cell_type": "markdown",
   "id": "2df4da8c-aa88-4bd8-b31c-ecbb6ddae8b2",
   "metadata": {},
   "source": [
    "### Constants & Variables \n",
    "The cells below use utilized for each of the MRIcroGL functions. User-established variables should be edited for relavent purposes. Constant variables should not need to change. "
   ]
  },
  {
   "cell_type": "code",
   "execution_count": null,
   "id": "8e2aaab7-8653-41fa-9d6f-582e333b8c65",
   "metadata": {
    "tags": []
   },
   "outputs": [],
   "source": [
    "# Imports\n",
    "import os\n",
    "import gl\n",
    "import re"
   ]
  },
  {
   "cell_type": "markdown",
   "id": "9c84142f-58a3-4684-80a4-78e2f05717c0",
   "metadata": {},
   "source": [
    "**User-set variables** "
   ]
  },
  {
   "cell_type": "code",
   "execution_count": null,
   "id": "5a9e84d5-e7fd-4a79-8725-b4c768c06be5",
   "metadata": {
    "tags": []
   },
   "outputs": [],
   "source": [
    "# User-set variables \n",
    "\n",
    "folder_path = \"P:\\\\WoodsLab\\\\ACT-head_models\\\\FEM\\\\Ayden\\\\deface\\\\new_montage\\\\low_group\"\n",
    "#output_folder = \"P:\\\\WoodsLab\\\\ACT-head_models\\\\FEM\\\\Ayden\\\\deface\\\\new_montage\\\\sample_imgs\\\\low\\\\JRoast\"\n",
    "output_folder = \"C:\\\\Users\\\\samanthapedersen\\\\Desktop\\\\\"\n",
    "\n",
    "participants = ['100031',100161]       # Must have at least one participant for testing "
   ]
  },
  {
   "cell_type": "code",
   "execution_count": null,
   "id": "1ff2d4c7-93c1-4414-b289-519bf269b9fe",
   "metadata": {
    "tags": []
   },
   "outputs": [],
   "source": [
    "# If the folder path doesn't end with a backslash (\\), add it \n",
    "if folder_path[-1] != \"\\\\\":\n",
    "    folder_path += \"\\\\\"\n",
    "if output_folder[-1] != \"\\\\\":\n",
    "    output_folder += \"\\\\\"\n",
    "\n",
    "# If participants is not listed as a string, convert it: \n",
    "for index,item in enumerate(participants):\n",
    "    if not isinstance(item,str):\n",
    "        participants[index]=str(item)    "
   ]
  },
  {
   "cell_type": "code",
   "execution_count": null,
   "id": "0ce1852f-f047-43f7-8aef-6ce40b4fada3",
   "metadata": {
    "tags": []
   },
   "outputs": [],
   "source": [
    "# Verify user established variables \n",
    "print(\"\\033[4m\"+ \"\\033[1m\" + \"User-established variables:\"+\"\\033[0m\")\n",
    "print(f\"\\033[1mInput location:\\033[0m {folder_path}\")\n",
    "print(f\"\\033[1mOutput location:\\033[0m {output_folder}\")\n",
    "print(f\"\\033[1mParticipants:\\033[0m {participants}\")"
   ]
  },
  {
   "cell_type": "markdown",
   "id": "6c1c888f-bbce-4f0b-8d0e-be34ff6f45e2",
   "metadata": {},
   "source": [
    "**Constants**"
   ]
  },
  {
   "cell_type": "code",
   "execution_count": null,
   "id": "00d3a0f4-1201-4e4a-923a-27e0b91bad59",
   "metadata": {
    "tags": []
   },
   "outputs": [],
   "source": [
    "# Naming syntax (constants; do not change)\n",
    "algorithms = [\"original\",\"mri_deface\",\"mideface\",\"fsl_deface\",\"afni_reface\",\"afni_deface\"]\n",
    "t1s = [\"T1\",\"T1_defaced\",\"T1_defaced\",\"T1_defaced\",\"T1.reface\",\"T1.deface\"]\n",
    "\n",
    "# Naming syntax for electrode/gel (constants; do not change) \n",
    "elec = \"_mask_elec.nii\"\n",
    "gel = \"_mask_gel.nii\"\n",
    "\n",
    "# Naming syntax for outputs (constants; do not change) \n",
    "jroast = \"_Jroast.nii\"\n",
    "jbrain = \"_Jbrain.nii\"\n",
    "all_masks = \"_T1orT2_masks.nii\""
   ]
  },
  {
   "cell_type": "markdown",
   "id": "d85276f9-fd44-4ee7-b3e0-a4975e7824ee",
   "metadata": {},
   "source": [
    "**Standardize user inputs**"
   ]
  },
  {
   "cell_type": "markdown",
   "id": "e3222a37-c480-4680-bee2-873d091caf7a",
   "metadata": {},
   "source": [
    "**Variables for troubleshooting**"
   ]
  },
  {
   "cell_type": "code",
   "execution_count": null,
   "id": "51b9196d-1a75-4210-bba4-fc465e8ce9e3",
   "metadata": {
    "tags": []
   },
   "outputs": [],
   "source": [
    "# Identify a specific participant\n",
    "participant = participants[0]     \n",
    "print(f\"\\033[1mTest participant:\\033[0m {participant}\")\n",
    "\n",
    "# Change this 0-5 (inclusive) to test different algorithms \n",
    "i = 5; \n",
    "if -1<i<6:\n",
    "    print(f\"\\033[1mTesting algorithm:\\033[0m {algorithms[i]} (i = {i})\")\n",
    "else:\n",
    "    print(f\"\\033[1mError: identified value for i (i = {i}) is invalid. Please set i to be -1<i<6.\\033[0m\")"
   ]
  },
  {
   "cell_type": "markdown",
   "id": "49c3d8c7-27bc-4287-85c4-171ab4be2efa",
   "metadata": {},
   "source": [
    "#### Generate mosaics for JBrain.nii"
   ]
  },
  {
   "cell_type": "code",
   "execution_count": null,
   "id": "6102f33b-5117-4563-ae40-6abdf645baa4",
   "metadata": {
    "tags": []
   },
   "outputs": [],
   "source": [
    "# Generate a mosaic for JBrain.nii\n",
    "# FString format\n",
    "\n",
    "for participant in participants:\n",
    "\n",
    "    # Set the participant's input and output folder location\n",
    "    participant_folder = f\"{folder_path}{participant}\\\\\"\n",
    "    participant_output = f\"{output_folder}{participant}\\\\\"\n",
    "    # Check if this participant already has an output folder\n",
    "    if not os.path.exists(participant_output):\n",
    "        os.makedirs(participant_output)     # Create output folder if it dne\n",
    "\n",
    "    # Begin generating each algorithm output's images\n",
    "    # For each algorithm...\n",
    "    for i in range(0,6):\n",
    "        # Identify JBrain file as background image\n",
    "        inputs = f\"{participant_folder}{algorithms[i]}\\\\{t1s[i]}_DEFACE_mont2{jbrain}\"\n",
    "        gl.loadimage(inputs)\n",
    "        \n",
    "        # Set colors and palette\n",
    "        gl.colorname(0,'jet')\n",
    "        gl.minmax(0,0,0.08)\n",
    "\n",
    "        # Identify + overlay elec/gel masks\n",
    "        #elec_mask = syntax+elec\n",
    "        #gel_mask = syntax+gel\n",
    "        # gl.overlayload(elec_mask)\n",
    "        #gl.overlayload(gel_mask)\n",
    "\n",
    "        # Reset elec/gel colors\n",
    "        # gl.minmax(1, 0, 0)\n",
    "        # gl.minmax(2, 0, 0)\n",
    "        # Remove color bar\n",
    "        gl.colorbarposition(0)\n",
    "\n",
    "        # Create mosaic of sagittal/axial/coronal slices with 3D render\n",
    "        gl.mosaic(\"S -70, S -60, S -50, S -40, S -30, S -20, S R -0; S 20, S 30, S 40, S 50, S 60, S 70, S R 0;A-50, A -40, A -30, A -20, A-10, A 0, A R 0; C -80, C -70, C -60, C -50, C -40, C-30, C R -0\")\n",
    "        \n",
    "        # Save image to participant's image folder\n",
    "        outputs = f\"{participant_output}{participant}_{algorithms[i]}_{jbrain[:-4]}\"      \n",
    "        gl.savebmp(outputs)"
   ]
  },
  {
   "cell_type": "code",
   "execution_count": null,
   "id": "7215a0bb-c88e-43b8-8cd2-2256786adbaa",
   "metadata": {
    "tags": []
   },
   "outputs": [],
   "source": [
    "# Generate a mosaic for JBrain.nii\n",
    "# String concatenation format\n",
    "\n",
    "for participant in participants:\n",
    "\n",
    "    # Set the participant's input and output folder location\n",
    "    participant_folder = folder_path+participant+\"\\\\\"\n",
    "    participant_output = output_folder+participant+\"\\\\\"\n",
    "\n",
    "    # Check if this participant already has an output folder\n",
    "    if not os.path.exists(participant_output):\n",
    "        os.makedirs(participant_output)     # Create output folder if it dne\n",
    "\n",
    "    # Begin generating each algorithm output's images\n",
    "    # For each algorithm...\n",
    "    for i in range(0,6):\n",
    "        # Identify JBrain file as background image\n",
    "        inputs = participant_folder+algorithms[i]+\"\\\\\"+t1s[i]+\"_DEFACE_mont2\"+jbrain\n",
    "        gl.loadimage(inputs)\n",
    "        \n",
    "        # Set colors and palette\n",
    "        gl.colorname(0,'jet')\n",
    "        gl.minmax(0,0,0.08)\n",
    "\n",
    "        # Identify + overlay elec/gel masks\n",
    "        #elec_mask = syntax+elec\n",
    "        #gel_mask = syntax+gel\n",
    "        # gl.overlayload(elec_mask)\n",
    "        #gl.overlayload(gel_mask)\n",
    "\n",
    "        # Reset elec/gel colors\n",
    "        # gl.minmax(1, 0, 0)\n",
    "        # gl.minmax(2, 0, 0)\n",
    "        # Remove color bar\n",
    "        gl.colorbarposition(0)\n",
    "\n",
    "        # Create mosaic of sagittal/axial/coronal slices with 3D render\n",
    "        gl.mosaic(\"S -70, S -60, S -50, S -40, S -30, S -20, S R -0; S 20, S 30, S 40, S 50, S 60, S 70, S R 0;A-50, A -40, A -30, A -20, A-10, A 0, A R 0; C -80, C -70, C -60, C -50, C -40, C-30, C R -0\")\n",
    "        \n",
    "        # Save image to participant's image folder\n",
    "        outputs = participant_output+participant+\"_\"+algorithms[i]+\"_\"+jbrain[:-4]\n",
    "        gl.savebmp(outputs)"
   ]
  },
  {
   "cell_type": "markdown",
   "id": "43922491-22fd-465d-a87b-4d9f9eb0ba1f",
   "metadata": {},
   "source": [
    "#### Generate mosaics for JRoast.nii (with/without electrodes)"
   ]
  },
  {
   "cell_type": "markdown",
   "id": "ad9581f7-794c-4913-9916-eeead1a7c71e",
   "metadata": {},
   "source": [
    "#### Generate mosaics for allMasks.nii (with/without electrodes)"
   ]
  },
  {
   "cell_type": "markdown",
   "id": "0a6e480d-03b9-4ad2-b00f-3d2fc874464f",
   "metadata": {},
   "source": [
    "#### Generate mosaic to check electrodes/gel"
   ]
  },
  {
   "cell_type": "code",
   "execution_count": null,
   "id": "438364b9-0576-48ff-b85b-e9dd0f9adf80",
   "metadata": {
    "tags": []
   },
   "outputs": [],
   "source": [
    "# Functions\n",
    "\n",
    "# Print participant numbers for verification\n",
    "print(\"Generating images for following participants: \")\n",
    "for participant in participants:\n",
    "    print(participant)\n",
    "print(str(len(participants)) + \" participants to process.\")"
   ]
  }
 ],
 "metadata": {
  "kernelspec": {
   "display_name": "Python 3 (ipykernel)",
   "language": "python",
   "name": "python3"
  },
  "language_info": {
   "codemirror_mode": {
    "name": "ipython",
    "version": 3
   },
   "file_extension": ".py",
   "mimetype": "text/x-python",
   "name": "python",
   "nbconvert_exporter": "python",
   "pygments_lexer": "ipython3",
   "version": "3.10.12"
  }
 },
 "nbformat": 4,
 "nbformat_minor": 5
}
