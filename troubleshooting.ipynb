{
 "cells": [
  {
   "cell_type": "markdown",
   "id": "add22236-2911-4415-8711-160a38114f99",
   "metadata": {},
   "source": [
    "## Troubleshooting Space\n",
    "This file is intended to be used as Python environment for troubleshooting other scripts. "
   ]
  },
  {
   "cell_type": "markdown",
   "id": "6633987c-c1f2-42b6-901c-e44559a46963",
   "metadata": {},
   "source": [
    "### MRIcroGL Scripts"
   ]
  },
  {
   "cell_type": "markdown",
   "id": "354c5ca7-a975-4abb-83d6-fdb6fa9ed354",
   "metadata": {},
   "source": [
    "deface_jroast_mosaic.py \n",
    "Functions:\n",
    "* Import JRoast file \n",
    "* Overlay electrodes and gel \n",
    "* Set colors \n",
    "* Create mosaic and save as .png "
   ]
  },
  {
   "cell_type": "markdown",
   "id": "2df4da8c-aa88-4bd8-b31c-ecbb6ddae8b2",
   "metadata": {},
   "source": [
    "### Constants & Variables \n",
    "The cells below use utilized for each of the MRIcroGL functions. User-established variables should be edited for relavent purposes. Constant variables should not need to change. "
   ]
  },
  {
   "cell_type": "markdown",
   "id": "9c84142f-58a3-4684-80a4-78e2f05717c0",
   "metadata": {},
   "source": [
    "**User-set variables** "
   ]
  },
  {
   "cell_type": "code",
   "execution_count": 50,
   "id": "5a9e84d5-e7fd-4a79-8725-b4c768c06be5",
   "metadata": {
    "tags": []
   },
   "outputs": [],
   "source": [
    "# User-set variables \n",
    "\n",
    "folder_path = \"P:\\\\WoodsLab\\\\ACT-head_models\\\\FEM\\\\Ayden\\\\deface\\\\new_montage\\\\low_group\"\n",
    "output_folder = \"P:\\\\WoodsLab\\\\ACT-head_models\\\\FEM\\\\Ayden\\\\deface\\\\new_montage\\\\sample_imgs\\\\low\\\\JRoast\"\n",
    "\n",
    "participants = ['101190']       # Must have at least one participant for testing "
   ]
  },
  {
   "cell_type": "code",
   "execution_count": 24,
   "id": "0ce1852f-f047-43f7-8aef-6ce40b4fada3",
   "metadata": {
    "tags": []
   },
   "outputs": [
    {
     "name": "stdout",
     "output_type": "stream",
     "text": [
      "User-established variables:\n",
      "Input location: P:\\WoodsLab\\ACT-head_models\\FEM\\Ayden\\deface\\new_montage\\low_group\\\n",
      "Output location: P:\\WoodsLab\\ACT-head_models\\FEM\\Ayden\\deface\\new_montage\\sample_imgs\\low\\JRoast\\\n",
      "Participants: ['101190']\n"
     ]
    }
   ],
   "source": [
    "# Verify user established variables \n",
    "print(\"User-established variables:\")\n",
    "print(f\"Input location: {folder_path}\")\n",
    "print(f\"Output location: {output_folder}\")\n",
    "print(f\"Participants: {participants}\")"
   ]
  },
  {
   "cell_type": "markdown",
   "id": "6c1c888f-bbce-4f0b-8d0e-be34ff6f45e2",
   "metadata": {},
   "source": [
    "**Constants**"
   ]
  },
  {
   "cell_type": "code",
   "execution_count": 51,
   "id": "b08a771a-2fa6-4c13-afe2-5596f444136e",
   "metadata": {
    "tags": []
   },
   "outputs": [
    {
     "name": "stdout",
     "output_type": "stream",
     "text": [
      "P:\\WoodsLab\\ACT-head_models\\FEM\\Ayden\\deface\\new_montage\\low_group\\\n",
      "P:\\WoodsLab\\ACT-head_models\\FEM\\Ayden\\deface\\new_montage\\sample_imgs\\low\\JRoast\\\n"
     ]
    }
   ],
   "source": [
    "# Naming syntax (constants; do not change)\n",
    "algorithms = [\"original\",\"mri_deface\",\"mideface\",\"fsl_deface\",\"afni_reface\",\"afni_deface\"]\n",
    "t1s = [\"T1\",\"T1_defaced\",\"T1_defaced\",\"T1_defaced\",\"T1.reface\",\"T1.deface\"]\n",
    "\n",
    "# If the folder path doesn't end with a backslash (\\), add it \n",
    "if folder_path[-1] != \"\\\\\":\n",
    "    folder_path += \"\\\\\"\n",
    "if output_folder[-1] != \"\\\\\":\n",
    "    output_folder += \"\\\\\"\n",
    "    \n",
    "print(folder_path)\n",
    "print(output_folder)\n",
    "    \n",
    "\n",
    "elec = \"_mask_elec.nii\"\n",
    "gel = \"_mask_gel.nii\"\n",
    "\n",
    "jroast = \"_Jroast.nii\"\n",
    "jbrain = \"_Jbrain.nii\"\n",
    "all_masks = \"_T1orT2_masks.nii\""
   ]
  },
  {
   "cell_type": "markdown",
   "id": "e3222a37-c480-4680-bee2-873d091caf7a",
   "metadata": {},
   "source": [
    "**Troubleshooting variables**"
   ]
  },
  {
   "cell_type": "code",
   "execution_count": 27,
   "id": "51b9196d-1a75-4210-bba4-fc465e8ce9e3",
   "metadata": {
    "tags": []
   },
   "outputs": [
    {
     "name": "stdout",
     "output_type": "stream",
     "text": [
      "Test participant: 101190\n",
      "Testing algorithm: afni_reface (i = 4)\n"
     ]
    }
   ],
   "source": [
    "# Troubleshooting settings \n",
    "participant = participants[0]     # For testing; identifies a specific participant\n",
    "print(f\"Test participant: {participant}\")\n",
    "\n",
    "# For testing; change this 0-5 (inclusive) to test different algorithms \n",
    "i = 4; \n",
    "if -1<i<6:\n",
    "    print(f\"Testing algorithm: {algorithms[i]} (i = {i})\")\n",
    "else:\n",
    "    print(f\"Error: identified value for i (i = {i}) is invalid. Please set i to be -1<i<6.\")"
   ]
  },
  {
   "cell_type": "code",
   "execution_count": 8,
   "id": "438364b9-0576-48ff-b85b-e9dd0f9adf80",
   "metadata": {
    "tags": []
   },
   "outputs": [
    {
     "name": "stdout",
     "output_type": "stream",
     "text": [
      "Generating images for following participants: \n",
      "101190\n",
      "1 participants to process.\n"
     ]
    }
   ],
   "source": [
    "# Functions\n",
    "\n",
    "# Print participant numbers for verification\n",
    "print(\"Generating images for following participants: \")\n",
    "for participant in participants:\n",
    "    print(participant)\n",
    "print(str(len(participants)) + \" participants to process.\")"
   ]
  },
  {
   "cell_type": "code",
   "execution_count": 29,
   "id": "f780de60-f070-445e-847a-bc6a090300fb",
   "metadata": {
    "tags": []
   },
   "outputs": [],
   "source": [
    "# Generic function for creating the mosaic \n",
    "def create_mosaic(in_path,out_path,elec):\n",
    "    \n",
    "    gl.loadimage(in_path)     # Load the input as background image\n",
    "    \n",
    "    gl.colorname(0,'jet')     # Set color palette to jet \n",
    "    gl.minmax(0,0,0.08)\n",
    "    gl.colorbarposition(0)    # Remove the color bar \n",
    "    \n",
    "    if elec == True:\n",
    "        # Identify + overlay elec/gel masks\n",
    "        elec_mask = syntax+elec\n",
    "        gel_mask = syntax+gel\n",
    "        gl.overlayload(elec_mask)\n",
    "        gl.overlayload(gel_mask)\n",
    "        # Reset elec/gel colors\n",
    "        gl.minmax(1, 0, 0)\n",
    "        gl.minmax(2, 0, 0)\n",
    "        \n",
    "    # Create mosaic of sagittal/axial/coronal slices with 3D render\n",
    "    gl.mosaic(\"S -70, S -60, S -50, S -40, S -30, S -20, S R -0; S 20, S 30, S 40, S 50, S 60, S 70, S R 0;A-50, A -40, A -30, A -20, A-10, A 0, A R 0; C -80, C -70, C -60, C -50, C -40, C-30, C R -0\")\n",
    "    # Save image to participant's image folder\n",
    "    gl.savebmp(output)"
   ]
  },
  {
   "cell_type": "markdown",
   "id": "49c3d8c7-27bc-4287-85c4-171ab4be2efa",
   "metadata": {},
   "source": [
    "#### Generate mosaics for JBrain.nii"
   ]
  },
  {
   "cell_type": "code",
   "execution_count": 30,
   "id": "93654d88-3cce-470c-a290-6555b59241fb",
   "metadata": {
    "tags": []
   },
   "outputs": [
    {
     "ename": "SyntaxError",
     "evalue": "expected ':' (1469734507.py, line 30)",
     "output_type": "error",
     "traceback": [
      "\u001b[0;36m  Cell \u001b[0;32mIn[30], line 30\u001b[0;36m\u001b[0m\n\u001b[0;31m    def create_mosaic(in_path,out_path,elec)\u001b[0m\n\u001b[0m                                            ^\u001b[0m\n\u001b[0;31mSyntaxError\u001b[0m\u001b[0;31m:\u001b[0m expected ':'\n"
     ]
    }
   ],
   "source": [
    "# Generate a mosaic for JBrain.nii\n",
    "\n",
    "# For each listed participant...\n",
    "for participant in participants:\n",
    "    \n",
    "    \n",
    "    # Set the participant's input folder location\n",
    "    prtcpnt_in = folder_path+participant+\"\\\\\"\n",
    "\n",
    "    # Check if this participant already has an output folder\n",
    "    prtcpnt_out = output_folder+participant+\"\\\\\"\n",
    "    \n",
    "    # Create their image output folder if it does not exist\n",
    "    if not os.path.exists(prtcpnt_out):\n",
    "        os.makedirs(prtcpnt_out)\n",
    "\n",
    "    # Begin generating each algorithm output's images\n",
    "    # For each algorithm...\n",
    "    for i in range(0,6):\n",
    "        in_path = f\"{prtcpnt_in}{algorithms[i]}\\\\{t1s[i]}_DEFACE_mont2{jbrain}\"\n",
    "        \n",
    "        prtcpnt_in+algorithms[i]+\"\\\\\"+t1\n",
    "        # ... Generate a mosaic image\n",
    "        \n",
    "        # Standardize file name\n",
    "        syntax = t1s[i] + \"_DEFACE_mont2\"\n",
    "        input_location = participant_folder + algorithms[i] + \"\\\\\"\n",
    "        \n",
    "        gl.loadimage(input_location+syntax+jbrain)\n",
    "        \n",
    "        \n",
    "create_mosaic(in_path,out_path,elec)\n",
    "                    input_location = participant_folder + algorithms[i] + \"\\\\\"\n",
    "                \n",
    "                        input_location = participant_folder + algorithms[i] + \"\\\\\"\n",
    "        \n"
   ]
  },
  {
   "cell_type": "markdown",
   "id": "43922491-22fd-465d-a87b-4d9f9eb0ba1f",
   "metadata": {},
   "source": [
    "#### Generate mosaics for JRoast.nii (with/without electrodes)"
   ]
  },
  {
   "cell_type": "markdown",
   "id": "ad9581f7-794c-4913-9916-eeead1a7c71e",
   "metadata": {},
   "source": [
    "#### Generate mosaics for allMasks.nii (with/without electrodes)"
   ]
  },
  {
   "cell_type": "markdown",
   "id": "0a6e480d-03b9-4ad2-b00f-3d2fc874464f",
   "metadata": {},
   "source": [
    "#### Generate mosaic to check electrodes/gel"
   ]
  }
 ],
 "metadata": {
  "kernelspec": {
   "display_name": "Python 3 (ipykernel)",
   "language": "python",
   "name": "python3"
  },
  "language_info": {
   "codemirror_mode": {
    "name": "ipython",
    "version": 3
   },
   "file_extension": ".py",
   "mimetype": "text/x-python",
   "name": "python",
   "nbconvert_exporter": "python",
   "pygments_lexer": "ipython3",
   "version": "3.10.12"
  }
 },
 "nbformat": 4,
 "nbformat_minor": 5
}
